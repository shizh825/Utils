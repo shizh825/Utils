{
 "cells": [
  {
   "cell_type": "code",
   "execution_count": null,
   "metadata": {},
   "outputs": [],
   "source": [
    "# 路径预设\n",
    "import os\n",
    "import sys\n",
    "# 项目根目录\n",
    "ROOT_PATH = os.path.dirname(os.path.dirname(os.path.abspath(__file__)))\n",
    "sys.path.append(ROOT_PATH)\n",
    "\n"
   ]
  }
 ],
 "metadata": {
  "kernelspec": {
   "display_name": "Python 3.8.8 ('Algorithm')",
   "language": "python",
   "name": "python3"
  },
  "language_info": {
   "name": "python",
   "version": "3.8.8"
  },
  "orig_nbformat": 4,
  "vscode": {
   "interpreter": {
    "hash": "77955be596622fc09e99af315c851f3a81a10a4cc751122c7e97410c6a5ae745"
   }
  }
 },
 "nbformat": 4,
 "nbformat_minor": 2
}
