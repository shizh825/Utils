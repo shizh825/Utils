{
 "cells": [
  {
   "cell_type": "code",
   "execution_count": 2,
   "metadata": {},
   "outputs": [],
   "source": [
    "import win32api\n",
    "\n",
    "\n"
   ]
  },
  {
   "cell_type": "code",
   "execution_count": 5,
   "metadata": {},
   "outputs": [
    {
     "data": {
      "text/plain": [
       "42"
      ]
     },
     "execution_count": 5,
     "metadata": {},
     "output_type": "execute_result"
    }
   ],
   "source": [
    "path = \"D:\\code\\\\\"\n",
    "# 调用记事本打开文件\n",
    "# win32api.ShellExecute(0, 'open', 'notepad.exe', path + \"test.txt\", '' , 1)\n",
    "# word\n",
    "win32api.ShellExecute(0, 'open', 'WINWORD.EXE', path + \"test.docx\", '' , 1)\n",
    "# 调用python 解释器运行文件\n",
    "# win32api.ShellExecute(0, 'open', 'python.exe', path, '' , 1)\n",
    "# 调用系统默认方式打开文件\n",
    "# win32api.ShellExecute(0, 'open', path, '', '' , 1)"
   ]
  }
 ],
 "metadata": {
  "kernelspec": {
   "display_name": "Python 3.7.4 ('base')",
   "language": "python",
   "name": "python3"
  },
  "language_info": {
   "codemirror_mode": {
    "name": "ipython",
    "version": 3
   },
   "file_extension": ".py",
   "mimetype": "text/x-python",
   "name": "python",
   "nbconvert_exporter": "python",
   "pygments_lexer": "ipython3",
   "version": "3.7.4"
  },
  "orig_nbformat": 4,
  "vscode": {
   "interpreter": {
    "hash": "b09ec625f77bf4fd762565a912b97636504ad6ec901eb2d0f4cf5a7de23e1ee5"
   }
  }
 },
 "nbformat": 4,
 "nbformat_minor": 2
}
